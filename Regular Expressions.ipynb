{
 "cells": [
  {
   "cell_type": "code",
   "execution_count": 1,
   "metadata": {
    "collapsed": true
   },
   "outputs": [],
   "source": [
    "import re\n",
    "\n"
   ]
  },
  {
   "cell_type": "code",
   "execution_count": 2,
   "metadata": {
    "collapsed": false
   },
   "outputs": [
    {
     "data": {
      "text/plain": [
       "['abcMATCHxyz', 'define456', '789sth', '379tut']"
      ]
     },
     "execution_count": 2,
     "metadata": {},
     "output_type": "execute_result"
    }
   ],
   "source": [
    "myvec=[\"abc123xyz\",\"define456\",\"789sth\",\"379tut\"]\n",
    "[re.sub(\"123\",\"MATCH\",elem) for elem in myvec]"
   ]
  },
  {
   "cell_type": "code",
   "execution_count": 3,
   "metadata": {
    "collapsed": false
   },
   "outputs": [
    {
     "data": {
      "text/plain": [
       "['abcMATCHMATCHMATCHxyz',\n",
       " 'defineMATCHMATCHMATCH',\n",
       " 'MATCHMATCHMATCHsth',\n",
       " 'MATCHMATCHMATCHtut']"
      ]
     },
     "execution_count": 3,
     "metadata": {},
     "output_type": "execute_result"
    }
   ],
   "source": [
    "myvec=[\"abc123xyz\",\"define456\",\"789sth\",\"379tut\"]\n",
    "[re.sub(\"\\\\d\",\"MATCH\",elem) for elem in myvec]"
   ]
  },
  {
   "cell_type": "code",
   "execution_count": 4,
   "metadata": {
    "collapsed": false
   },
   "outputs": [
    {
     "data": {
      "text/plain": [
       "['abcMATCHxyz', 'defineMATCH', 'MATCHsth', 'MATCHtut']"
      ]
     },
     "execution_count": 4,
     "metadata": {},
     "output_type": "execute_result"
    }
   ],
   "source": [
    "myvec=[\"abc123xyz\",\"define456\",\"789sth\",\"379tut\"]\n",
    "[re.sub(\"\\\\d\\\\d\\\\d\",\"MATCH\",elem) for elem in myvec]"
   ]
  },
  {
   "cell_type": "code",
   "execution_count": 5,
   "metadata": {
    "collapsed": false
   },
   "outputs": [
    {
     "data": {
      "text/plain": [
       "['abc123xyz', 'define456', 'MATCHsth', 'MATCHtut']"
      ]
     },
     "execution_count": 5,
     "metadata": {},
     "output_type": "execute_result"
    }
   ],
   "source": [
    "\n",
    "myvec=[\"abc123xyz\",\"define456\",\"789sth\",\"379tut\"]\n",
    "[re.sub(\"\\\\d\\\\d9\",\"MATCH\",elem) for elem in myvec]"
   ]
  },
  {
   "cell_type": "code",
   "execution_count": 6,
   "metadata": {
    "collapsed": false
   },
   "outputs": [
    {
     "data": {
      "text/plain": [
       "['MATCHMATCHMATCHMATCH',\n",
       " 'MATCHMATCHMATCHMATCH',\n",
       " 'MATCHMATCHMATCHMATCHMATCHMATCHMATCHMATCH',\n",
       " 'MATCHMATCHMATCH']"
      ]
     },
     "execution_count": 6,
     "metadata": {},
     "output_type": "execute_result"
    }
   ],
   "source": [
    "# 2 : . means any single character, for symbol . use \\\\. \n",
    "\n",
    "myvec=[\"ab@c\",\"123#\",\"$qwe.123\",\"...\"]\n",
    "\n",
    "[re.sub(\".\",\"MATCH\",elem) for elem in myvec]"
   ]
  },
  {
   "cell_type": "code",
   "execution_count": 7,
   "metadata": {
    "collapsed": false
   },
   "outputs": [
    {
     "data": {
      "text/plain": [
       "['ab@c', '123#', '$qweMATCH123', 'MATCHMATCHMATCH']"
      ]
     },
     "execution_count": 7,
     "metadata": {},
     "output_type": "execute_result"
    }
   ],
   "source": [
    "[re.sub(\"\\\\.\",\"MATCH\",elem) for elem in myvec]"
   ]
  },
  {
   "cell_type": "code",
   "execution_count": 8,
   "metadata": {
    "collapsed": false
   },
   "outputs": [
    {
     "data": {
      "text/plain": [
       "['MATCHabc', 'MATCHabc', 'abcMATCH']"
      ]
     },
     "execution_count": 8,
     "metadata": {},
     "output_type": "execute_result"
    }
   ],
   "source": [
    "# 3 : replacing multiple characters at once\n",
    "myvec=[\"<abc\",\"#abc\",\"abc%\"]\n",
    "[re.sub(\"[<#%]\",\"MATCH\",elem) for elem in myvec]"
   ]
  },
  {
   "cell_type": "code",
   "execution_count": 9,
   "metadata": {
    "collapsed": false
   },
   "outputs": [
    {
     "data": {
      "text/plain": [
       "['MATCHabc', 'MATCHMATCHabc', 'abcMATCH']"
      ]
     },
     "execution_count": 9,
     "metadata": {},
     "output_type": "execute_result"
    }
   ],
   "source": [
    "# 4 : excluding a pattern with metacharacter ^\n",
    "myvec=[\"<abc\",\"#1abc\",\"abc%\"]\n",
    "[re.sub(\"[^abc]\",\"MATCH\",elem) for elem in myvec]"
   ]
  },
  {
   "cell_type": "code",
   "execution_count": 10,
   "metadata": {
    "collapsed": false
   },
   "outputs": [
    {
     "data": {
      "text/plain": [
       "['<MATCHMATCHMATCH', '#MATCHMATCHMATCH', 'MATCHMATCHMATCH%']"
      ]
     },
     "execution_count": 10,
     "metadata": {},
     "output_type": "execute_result"
    }
   ],
   "source": [
    "# 5 : character ranges with -\n",
    "\n",
    "myvec=[\"<abc\",\"#def\",\"ghi%\"]\n",
    "[re.sub(\"[^a-z]\",\"MATCH\",elem) for elem in myvec]\n",
    "\n",
    "\n",
    "[re.sub(\"[a-z]\",\"MATCH\",elem) for elem in myvec]"
   ]
  },
  {
   "cell_type": "code",
   "execution_count": 14,
   "metadata": {
    "collapsed": false
   },
   "outputs": [
    {
     "data": {
      "text/plain": [
       "['abcMATCHxyz', 'defineMATCH', 'MATCHsth', 'MATCHtut6']"
      ]
     },
     "execution_count": 14,
     "metadata": {},
     "output_type": "execute_result"
    }
   ],
   "source": [
    "# 6 : more compact way for repetition\n",
    "\n",
    "myvec=[\"abc123xyz\",\"define456\",\"789sth\",\"379tut6\"]\n",
    "[re.sub(\"\\\\d\\\\d\\\\d\",\"MATCH\",elem) for elem in myvec]"
   ]
  },
  {
   "cell_type": "code",
   "execution_count": 15,
   "metadata": {
    "collapsed": false
   },
   "outputs": [
    {
     "data": {
      "text/plain": [
       "['abcMATCHxyz', 'defineMATCH', 'MATCHsth', 'MATCHtut6']"
      ]
     },
     "execution_count": 15,
     "metadata": {},
     "output_type": "execute_result"
    }
   ],
   "source": [
    "[re.sub(\"\\\\d{3,}\",\"MATCH\",elem) for elem in myvec]"
   ]
  },
  {
   "cell_type": "code",
   "execution_count": 16,
   "metadata": {
    "collapsed": false
   },
   "outputs": [
    {
     "data": {
      "text/plain": [
       "['abcMATCHxyMATCHzMATCH', 'defMATCHineMATCH', 'MATCHsth', 'MATCHtut6']"
      ]
     },
     "execution_count": 16,
     "metadata": {},
     "output_type": "execute_result"
    }
   ],
   "source": [
    "myvec=[\"abc123xy1234z12345\",\"def4567ine456\",\"789sth\",\"379tut6\"]\n",
    "[re.sub(\"\\\\d{3,5}\",\"MATCH\",elem) for elem in myvec]"
   ]
  },
  {
   "cell_type": "code",
   "execution_count": 17,
   "metadata": {
    "collapsed": false
   },
   "outputs": [
    {
     "data": {
      "text/plain": [
       "['abcMATCHxyMATCHzMATCH', 'defMATCHineMATCH', 'MATCHsth', 'MATCHtutMATCH']"
      ]
     },
     "execution_count": 17,
     "metadata": {},
     "output_type": "execute_result"
    }
   ],
   "source": [
    "[re.sub(\"\\\\d{1,}\",\"MATCH\",elem) for elem in myvec]"
   ]
  },
  {
   "cell_type": "code",
   "execution_count": 18,
   "metadata": {
    "collapsed": false
   },
   "outputs": [
    {
     "data": {
      "text/plain": [
       "['rori',\n",
       " 'emmilia',\n",
       " 'maMATCHMATCHeo',\n",
       " 'mehmeMATCH',\n",
       " 'filipe',\n",
       " 'anna',\n",
       " 'MATCHyler',\n",
       " 'rasmus',\n",
       " 'MATCH jacob',\n",
       " 'youna',\n",
       " 'flora',\n",
       " 'adi MATCH']"
      ]
     },
     "execution_count": 18,
     "metadata": {},
     "output_type": "execute_result"
    }
   ],
   "source": [
    "# 7 : Kleene Plus and Kleene Star\n",
    "\n",
    "# * means it matches zero or more character\n",
    "# + means it matches atleast one or more character\n",
    "\n",
    "# people names\n",
    "people = [\"rori\", \"emmilia\", \"matteo\", \"mehmemt\", \"filipe\", \"anna\", \"tyler\",\n",
    "           \"rasmus\", \"mt jacob\", \"youna\", \"flora\", \"adi mmt\"]\n",
    "\n",
    "# match m zero or more times, and t\n",
    "[re.sub(\"m*t\",\"MATCH\",elem) for elem in people]"
   ]
  },
  {
   "cell_type": "code",
   "execution_count": 20,
   "metadata": {
    "collapsed": false
   },
   "outputs": [
    {
     "data": {
      "text/plain": [
       "['rori',\n",
       " 'emmilia',\n",
       " 'maMATCHo',\n",
       " 'mehmemt',\n",
       " 'filipe',\n",
       " 'anna',\n",
       " 'MATCHler',\n",
       " 'rasmus',\n",
       " 'mMATCHjacob',\n",
       " 'youna',\n",
       " 'flora',\n",
       " 'adi mmt']"
      ]
     },
     "execution_count": 20,
     "metadata": {},
     "output_type": "execute_result"
    }
   ],
   "source": [
    "[re.sub(\"t+.\",\"MATCH\",elem) for elem in people]"
   ]
  },
  {
   "cell_type": "code",
   "execution_count": 21,
   "metadata": {
    "collapsed": false
   },
   "outputs": [
    {
     "data": {
      "text/plain": [
       "['rori',\n",
       " 'emmilia',\n",
       " 'matteo',\n",
       " 'mehmeMATCH',\n",
       " 'filipe',\n",
       " 'anna',\n",
       " 'tyler',\n",
       " 'rasmus',\n",
       " 'MATCH jacob',\n",
       " 'youna',\n",
       " 'flora',\n",
       " 'adi MATCH']"
      ]
     },
     "execution_count": 21,
     "metadata": {},
     "output_type": "execute_result"
    }
   ],
   "source": [
    "# match m atleast one or more times\n",
    "[re.sub(\"m+t\",\"MATCH\",elem) for elem in people]"
   ]
  },
  {
   "cell_type": "code",
   "execution_count": 22,
   "metadata": {
    "collapsed": false
   },
   "outputs": [
    {
     "data": {
      "text/plain": [
       "['MATCH', 'MATCH', 'MATCH', '12MATCH']"
      ]
     },
     "execution_count": 22,
     "metadata": {},
     "output_type": "execute_result"
    }
   ],
   "source": [
    "# 8 : metacharacter or with ?\n",
    "\n",
    "myvec=[\"ac\",\"abc\",\"ab?c\",\"12ac\"]\n",
    "[re.sub(\"abc\",\"MATCH\",elem) for elem in myvec]\n",
    "\n",
    "[re.sub(\"ab?c\",\"MATCH\",elem) for elem in myvec]\n",
    "\n",
    "[re.sub(\"ab?\\\\??c\",\"MATCH\",elem) for elem in myvec]"
   ]
  },
  {
   "cell_type": "code",
   "execution_count": 23,
   "metadata": {
    "collapsed": true
   },
   "outputs": [],
   "source": [
    "# 9 : \\\\s stands for any white space : \" \" , \\\\t , \\\\n"
   ]
  },
  {
   "cell_type": "code",
   "execution_count": 24,
   "metadata": {
    "collapsed": false
   },
   "outputs": [
    {
     "data": {
      "text/plain": [
       "['MATCH',\n",
       " 'MATCH',\n",
       " 'fileabcpdf',\n",
       " 'MATCH',\n",
       " 'file.pdf',\n",
       " 'testfile_fake.pdf.tmp',\n",
       " 'file_record_transcript.pdff']"
      ]
     },
     "execution_count": 24,
     "metadata": {},
     "output_type": "execute_result"
    }
   ],
   "source": [
    "# 10 : ^ start and $ end\n",
    "myvec=[\"file_record_transcript.pdf\",\"file_07241999.pdf\",\n",
    "        \"fileabcpdf\",\"fileabc.pdf\",\"file.pdf\",\n",
    "       \"testfile_fake.pdf.tmp\",\"file_record_transcript.pdff\"]\n",
    "\n",
    "[re.sub(\"^file.+\\\\.pdf$\",\"MATCH\",elem) for elem in myvec]"
   ]
  },
  {
   "cell_type": "code",
   "execution_count": 44,
   "metadata": {
    "collapsed": false
   },
   "outputs": [
    {
     "data": {
      "text/plain": [
       "['MATCH', 'MATCH', 'MATCH', '12MATCH']"
      ]
     },
     "execution_count": 44,
     "metadata": {},
     "output_type": "execute_result"
    }
   ],
   "source": [
    "# 11 : groups with ()\n",
    "\n",
    "myvec=[\"ac\",\"abc\",\"aQAc\",\"12ac\"]\n",
    "[re.sub(\"ab?Q?A?c\",\"MATCH\",elem) for elem in myvec]"
   ]
  },
  {
   "cell_type": "code",
   "execution_count": 26,
   "metadata": {
    "collapsed": false
   },
   "outputs": [
    {
     "data": {
      "text/plain": [
       "['ac', 'abc', 'MATCH', '12ac']"
      ]
     },
     "execution_count": 26,
     "metadata": {},
     "output_type": "execute_result"
    }
   ],
   "source": [
    "[re.sub(\"ab?QA?c\",\"MATCH\",elem) for elem in myvec]"
   ]
  },
  {
   "cell_type": "code",
   "execution_count": 27,
   "metadata": {
    "collapsed": false
   },
   "outputs": [
    {
     "data": {
      "text/plain": [
       "['MATCH', 'MATCH', 'MATCH', '12MATCH']"
      ]
     },
     "execution_count": 27,
     "metadata": {},
     "output_type": "execute_result"
    }
   ],
   "source": [
    "[re.sub(\"ab?(QA)?c\",\"MATCH\",elem) for elem in myvec]"
   ]
  },
  {
   "cell_type": "markdown",
   "metadata": {},
   "source": [
    "Note: For extracting instead of replacing, use **`re.search`**"
   ]
  },
  {
   "cell_type": "code",
   "execution_count": 45,
   "metadata": {
    "collapsed": false
   },
   "outputs": [
    {
     "data": {
      "text/plain": [
       "['ac', 'abc', 'aQAc', 'ac']"
      ]
     },
     "execution_count": 45,
     "metadata": {},
     "output_type": "execute_result"
    }
   ],
   "source": [
    "myvec=[\"ac\",\"abc\",\"aQAc\",\"12ac\"]\n",
    "[re.search(\"ab?(QA)?c\",elem).group(0) for elem in myvec]"
   ]
  },
  {
   "cell_type": "code",
   "execution_count": 46,
   "metadata": {
    "collapsed": true
   },
   "outputs": [],
   "source": [
    "myvec=[\"file_record_transcript.pdf\",\"file_07241999.pdf\",\n",
    "        \"fileabcpdf\",\"fileabc.pdf\",\"file.pdf\",\n",
    "       \"testfile_fake.pdf.tmp\",\"file_record_transcript.pdff\"]\n",
    "\n",
    "pattern=\"^file.+\\\\.pdf$\""
   ]
  },
  {
   "cell_type": "code",
   "execution_count": 50,
   "metadata": {
    "collapsed": false
   },
   "outputs": [
    {
     "ename": "AttributeError",
     "evalue": "'NoneType' object has no attribute 'group'",
     "output_type": "error",
     "traceback": [
      "\u001b[0;31m---------------------------------------------------------------------------\u001b[0m",
      "\u001b[0;31mAttributeError\u001b[0m                            Traceback (most recent call last)",
      "\u001b[0;32m<ipython-input-50-f94a4057abf8>\u001b[0m in \u001b[0;36m<module>\u001b[0;34m()\u001b[0m\n\u001b[0;32m----> 1\u001b[0;31m \u001b[0;34m[\u001b[0m\u001b[0mre\u001b[0m\u001b[0;34m.\u001b[0m\u001b[0msearch\u001b[0m\u001b[0;34m(\u001b[0m\u001b[0mpattern\u001b[0m\u001b[0;34m,\u001b[0m\u001b[0melem\u001b[0m\u001b[0;34m)\u001b[0m\u001b[0;34m.\u001b[0m\u001b[0mgroup\u001b[0m\u001b[0;34m(\u001b[0m\u001b[0;36m0\u001b[0m\u001b[0;34m)\u001b[0m \u001b[0;32mfor\u001b[0m \u001b[0melem\u001b[0m \u001b[0;32min\u001b[0m \u001b[0mmyvec\u001b[0m\u001b[0;34m]\u001b[0m\u001b[0;34m\u001b[0m\u001b[0m\n\u001b[0m",
      "\u001b[0;32m<ipython-input-50-f94a4057abf8>\u001b[0m in \u001b[0;36m<listcomp>\u001b[0;34m(.0)\u001b[0m\n\u001b[0;32m----> 1\u001b[0;31m \u001b[0;34m[\u001b[0m\u001b[0mre\u001b[0m\u001b[0;34m.\u001b[0m\u001b[0msearch\u001b[0m\u001b[0;34m(\u001b[0m\u001b[0mpattern\u001b[0m\u001b[0;34m,\u001b[0m\u001b[0melem\u001b[0m\u001b[0;34m)\u001b[0m\u001b[0;34m.\u001b[0m\u001b[0mgroup\u001b[0m\u001b[0;34m(\u001b[0m\u001b[0;36m0\u001b[0m\u001b[0;34m)\u001b[0m \u001b[0;32mfor\u001b[0m \u001b[0melem\u001b[0m \u001b[0;32min\u001b[0m \u001b[0mmyvec\u001b[0m\u001b[0;34m]\u001b[0m\u001b[0;34m\u001b[0m\u001b[0m\n\u001b[0m",
      "\u001b[0;31mAttributeError\u001b[0m: 'NoneType' object has no attribute 'group'"
     ]
    }
   ],
   "source": [
    "[re.search(pattern,elem).group(0) for elem in myvec]"
   ]
  },
  {
   "cell_type": "code",
   "execution_count": 48,
   "metadata": {
    "collapsed": false
   },
   "outputs": [
    {
     "name": "stdout",
     "output_type": "stream",
     "text": [
      "file_record_transcript.pdf\n",
      "file_07241999.pdf\n",
      "fileabc.pdf\n"
     ]
    }
   ],
   "source": [
    "for elem in myvec:\n",
    "    x=re.search(pattern,elem)\n",
    "    if x is not None:\n",
    "        print(x.group(0))"
   ]
  },
  {
   "cell_type": "code",
   "execution_count": 49,
   "metadata": {
    "collapsed": false
   },
   "outputs": [
    {
     "data": {
      "text/plain": [
       "['file_record_transcript.pdf', 'file_07241999.pdf', 'fileabc.pdf']"
      ]
     },
     "execution_count": 49,
     "metadata": {},
     "output_type": "execute_result"
    }
   ],
   "source": [
    "[re.search(pattern,elem).group(0) for elem in myvec if\n",
    "    re.search(pattern,elem) is not None]"
   ]
  },
  {
   "cell_type": "code",
   "execution_count": 56,
   "metadata": {
    "collapsed": false
   },
   "outputs": [
    {
     "data": {
      "text/plain": [
       "'ab'"
      ]
     },
     "execution_count": 56,
     "metadata": {},
     "output_type": "execute_result"
    }
   ],
   "source": [
    "re.search(\"ab\",\"abbcbc\").group(0)"
   ]
  },
  {
   "cell_type": "code",
   "execution_count": null,
   "metadata": {
    "collapsed": true
   },
   "outputs": [],
   "source": []
  }
 ],
 "metadata": {
  "kernelspec": {
   "display_name": "Python 3",
   "language": "python",
   "name": "python3"
  },
  "language_info": {
   "codemirror_mode": {
    "name": "ipython",
    "version": 3
   },
   "file_extension": ".py",
   "mimetype": "text/x-python",
   "name": "python",
   "nbconvert_exporter": "python",
   "pygments_lexer": "ipython3",
   "version": "3.6.0"
  }
 },
 "nbformat": 4,
 "nbformat_minor": 2
}
