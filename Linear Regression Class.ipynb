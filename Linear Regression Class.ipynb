{
 "cells": [
  {
   "cell_type": "markdown",
   "id": "c570ddcc",
   "metadata": {},
   "source": [
    "# Simple Linear Regression Using SKlearn"
   ]
  },
  {
   "cell_type": "code",
   "execution_count": null,
   "id": "8f18e66d",
   "metadata": {},
   "outputs": [],
   "source": [
    "import numpy\n",
    "import pandas as pd \n",
    "import matplotlib.pyplot as plt"
   ]
  },
  {
   "cell_type": "code",
   "execution_count": 3,
   "id": "47e94f1a",
   "metadata": {},
   "outputs": [],
   "source": [
    "df = pd.read_csv(r\"C:\\Users\\sumit.p.kumar.singh\\OneDrive - Accenture\\kaggle\\placement.csv\")"
   ]
  },
  {
   "cell_type": "code",
   "execution_count": 4,
   "id": "714b70ef",
   "metadata": {},
   "outputs": [
    {
     "data": {
      "text/html": [
       "<div>\n",
       "<style scoped>\n",
       "    .dataframe tbody tr th:only-of-type {\n",
       "        vertical-align: middle;\n",
       "    }\n",
       "\n",
       "    .dataframe tbody tr th {\n",
       "        vertical-align: top;\n",
       "    }\n",
       "\n",
       "    .dataframe thead th {\n",
       "        text-align: right;\n",
       "    }\n",
       "</style>\n",
       "<table border=\"1\" class=\"dataframe\">\n",
       "  <thead>\n",
       "    <tr style=\"text-align: right;\">\n",
       "      <th></th>\n",
       "      <th>cgpa</th>\n",
       "      <th>package</th>\n",
       "    </tr>\n",
       "  </thead>\n",
       "  <tbody>\n",
       "    <tr>\n",
       "      <th>0</th>\n",
       "      <td>58.80</td>\n",
       "      <td>270000</td>\n",
       "    </tr>\n",
       "    <tr>\n",
       "      <th>1</th>\n",
       "      <td>66.28</td>\n",
       "      <td>200000</td>\n",
       "    </tr>\n",
       "    <tr>\n",
       "      <th>2</th>\n",
       "      <td>57.80</td>\n",
       "      <td>250000</td>\n",
       "    </tr>\n",
       "    <tr>\n",
       "      <th>3</th>\n",
       "      <td>55.50</td>\n",
       "      <td>425000</td>\n",
       "    </tr>\n",
       "    <tr>\n",
       "      <th>4</th>\n",
       "      <td>62.14</td>\n",
       "      <td>252000</td>\n",
       "    </tr>\n",
       "  </tbody>\n",
       "</table>\n",
       "</div>"
      ],
      "text/plain": [
       "    cgpa  package\n",
       "0  58.80   270000\n",
       "1  66.28   200000\n",
       "2  57.80   250000\n",
       "3  55.50   425000\n",
       "4  62.14   252000"
      ]
     },
     "execution_count": 4,
     "metadata": {},
     "output_type": "execute_result"
    }
   ],
   "source": [
    "df.head()"
   ]
  },
  {
   "cell_type": "code",
   "execution_count": 5,
   "id": "be16a276",
   "metadata": {},
   "outputs": [
    {
     "data": {
      "text/plain": [
       "Text(0, 0.5, 'Packages')"
      ]
     },
     "execution_count": 5,
     "metadata": {},
     "output_type": "execute_result"
    },
    {
     "data": {
      "image/png": "[encoded data removed]",
      "text/plain": [
       "<Figure size 432x288 with 1 Axes>"
      ]
     },
     "metadata": {
      "needs_background": "light"
     },
     "output_type": "display_data"
    }
   ],
   "source": [
    "plt.scatter(df['cgpa'],df['package'])\n",
    "plt.xlabel('cgpa')\n",
    "plt.ylabel('Packages')"
   ]
  },
  {
   "cell_type": "code",
   "execution_count": 6,
   "id": "2184d3fd",
   "metadata": {},
   "outputs": [],
   "source": [
    "X = df.iloc[:,0:1]\n",
    "y = df.iloc[:,-1]"
   ]
  },
  {
   "cell_type": "code",
   "execution_count": 7,
   "id": "74ca9b7a",
   "metadata": {},
   "outputs": [
    {
     "data": {
      "text/html": [
       "<div>\n",
       "<style scoped>\n",
       "    .dataframe tbody tr th:only-of-type {\n",
       "        vertical-align: middle;\n",
       "    }\n",
       "\n",
       "    .dataframe tbody tr th {\n",
       "        vertical-align: top;\n",
       "    }\n",
       "\n",
       "    .dataframe thead th {\n",
       "        text-align: right;\n",
       "    }\n",
       "</style>\n",
       "<table border=\"1\" class=\"dataframe\">\n",
       "  <thead>\n",
       "    <tr style=\"text-align: right;\">\n",
       "      <th></th>\n",
       "      <th>cgpa</th>\n",
       "    </tr>\n",
       "  </thead>\n",
       "  <tbody>\n",
       "    <tr>\n",
       "      <th>0</th>\n",
       "      <td>58.80</td>\n",
       "    </tr>\n",
       "    <tr>\n",
       "      <th>1</th>\n",
       "      <td>66.28</td>\n",
       "    </tr>\n",
       "    <tr>\n",
       "      <th>2</th>\n",
       "      <td>57.80</td>\n",
       "    </tr>\n",
       "    <tr>\n",
       "      <th>3</th>\n",
       "      <td>55.50</td>\n",
       "    </tr>\n",
       "    <tr>\n",
       "      <th>4</th>\n",
       "      <td>62.14</td>\n",
       "    </tr>\n",
       "    <tr>\n",
       "      <th>...</th>\n",
       "      <td>...</td>\n",
       "    </tr>\n",
       "    <tr>\n",
       "      <th>143</th>\n",
       "      <td>56.49</td>\n",
       "    </tr>\n",
       "    <tr>\n",
       "      <th>144</th>\n",
       "      <td>74.49</td>\n",
       "    </tr>\n",
       "    <tr>\n",
       "      <th>145</th>\n",
       "      <td>53.62</td>\n",
       "    </tr>\n",
       "    <tr>\n",
       "      <th>146</th>\n",
       "      <td>69.72</td>\n",
       "    </tr>\n",
       "    <tr>\n",
       "      <th>147</th>\n",
       "      <td>60.23</td>\n",
       "    </tr>\n",
       "  </tbody>\n",
       "</table>\n",
       "<p>148 rows × 1 columns</p>\n",
       "</div>"
      ],
      "text/plain": [
       "      cgpa\n",
       "0    58.80\n",
       "1    66.28\n",
       "2    57.80\n",
       "3    55.50\n",
       "4    62.14\n",
       "..     ...\n",
       "143  56.49\n",
       "144  74.49\n",
       "145  53.62\n",
       "146  69.72\n",
       "147  60.23\n",
       "\n",
       "[148 rows x 1 columns]"
      ]
     },
     "execution_count": 7,
     "metadata": {},
     "output_type": "execute_result"
    }
   ],
   "source": [
    "X"
   ]
  },
  {
   "cell_type": "code",
   "execution_count": 8,
   "id": "cfff3d6d",
   "metadata": {},
   "outputs": [
    {
     "data": {
      "text/plain": [
       "0      270000\n",
       "1      200000\n",
       "2      250000\n",
       "3      425000\n",
       "4      252000\n",
       "        ...  \n",
       "143    216000\n",
       "144    400000\n",
       "145    275000\n",
       "146    295000\n",
       "147    204000\n",
       "Name: package, Length: 148, dtype: int64"
      ]
     },
     "execution_count": 8,
     "metadata": {},
     "output_type": "execute_result"
    }
   ],
   "source": [
    "y"
   ]
  },
  {
   "cell_type": "code",
   "execution_count": 9,
   "id": "80bf5876",
   "metadata": {},
   "outputs": [],
   "source": [
    "from sklearn.model_selection import train_test_split\n",
    "X_train,X_test,y_train,y_test = train_test_split(X,y,test_size = 0.2,random_state =2)"
   ]
  },
  {
   "cell_type": "code",
   "execution_count": 10,
   "id": "89829452",
   "metadata": {},
   "outputs": [],
   "source": [
    "from sklearn.linear_model import LinearRegression"
   ]
  },
  {
   "cell_type": "code",
   "execution_count": 11,
   "id": "c9543ff5",
   "metadata": {},
   "outputs": [],
   "source": [
    "lr  =  LinearRegression()"
   ]
  },
  {
   "cell_type": "code",
   "execution_count": 12,
   "id": "6fc830fa",
   "metadata": {},
   "outputs": [
    {
     "data": {
      "text/plain": [
       "LinearRegression()"
      ]
     },
     "execution_count": 12,
     "metadata": {},
     "output_type": "execute_result"
    }
   ],
   "source": [
    "lr.fit(X_train,y_train)"
   ]
  },
  {
   "cell_type": "code",
   "execution_count": 13,
   "id": "540940ac",
   "metadata": {},
   "outputs": [
    {
     "data": {
      "text/html": [
       "<div>\n",
       "<style scoped>\n",
       "    .dataframe tbody tr th:only-of-type {\n",
       "        vertical-align: middle;\n",
       "    }\n",
       "\n",
       "    .dataframe tbody tr th {\n",
       "        vertical-align: top;\n",
       "    }\n",
       "\n",
       "    .dataframe thead th {\n",
       "        text-align: right;\n",
       "    }\n",
       "</style>\n",
       "<table border=\"1\" class=\"dataframe\">\n",
       "  <thead>\n",
       "    <tr style=\"text-align: right;\">\n",
       "      <th></th>\n",
       "      <th>cgpa</th>\n",
       "    </tr>\n",
       "  </thead>\n",
       "  <tbody>\n",
       "    <tr>\n",
       "      <th>115</th>\n",
       "      <td>72.29</td>\n",
       "    </tr>\n",
       "    <tr>\n",
       "      <th>48</th>\n",
       "      <td>66.94</td>\n",
       "    </tr>\n",
       "    <tr>\n",
       "      <th>3</th>\n",
       "      <td>55.50</td>\n",
       "    </tr>\n",
       "    <tr>\n",
       "      <th>42</th>\n",
       "      <td>59.69</td>\n",
       "    </tr>\n",
       "    <tr>\n",
       "      <th>125</th>\n",
       "      <td>68.07</td>\n",
       "    </tr>\n",
       "    <tr>\n",
       "      <th>24</th>\n",
       "      <td>55.47</td>\n",
       "    </tr>\n",
       "    <tr>\n",
       "      <th>108</th>\n",
       "      <td>61.30</td>\n",
       "    </tr>\n",
       "    <tr>\n",
       "      <th>12</th>\n",
       "      <td>56.70</td>\n",
       "    </tr>\n",
       "    <tr>\n",
       "      <th>126</th>\n",
       "      <td>56.60</td>\n",
       "    </tr>\n",
       "    <tr>\n",
       "      <th>139</th>\n",
       "      <td>58.30</td>\n",
       "    </tr>\n",
       "    <tr>\n",
       "      <th>5</th>\n",
       "      <td>61.29</td>\n",
       "    </tr>\n",
       "    <tr>\n",
       "      <th>54</th>\n",
       "      <td>59.42</td>\n",
       "    </tr>\n",
       "    <tr>\n",
       "      <th>127</th>\n",
       "      <td>61.82</td>\n",
       "    </tr>\n",
       "    <tr>\n",
       "      <th>35</th>\n",
       "      <td>52.71</td>\n",
       "    </tr>\n",
       "    <tr>\n",
       "      <th>129</th>\n",
       "      <td>64.86</td>\n",
       "    </tr>\n",
       "    <tr>\n",
       "      <th>82</th>\n",
       "      <td>70.48</td>\n",
       "    </tr>\n",
       "    <tr>\n",
       "      <th>25</th>\n",
       "      <td>56.86</td>\n",
       "    </tr>\n",
       "    <tr>\n",
       "      <th>87</th>\n",
       "      <td>61.26</td>\n",
       "    </tr>\n",
       "    <tr>\n",
       "      <th>135</th>\n",
       "      <td>69.71</td>\n",
       "    </tr>\n",
       "    <tr>\n",
       "      <th>142</th>\n",
       "      <td>71.55</td>\n",
       "    </tr>\n",
       "    <tr>\n",
       "      <th>78</th>\n",
       "      <td>55.01</td>\n",
       "    </tr>\n",
       "    <tr>\n",
       "      <th>94</th>\n",
       "      <td>53.49</td>\n",
       "    </tr>\n",
       "    <tr>\n",
       "      <th>59</th>\n",
       "      <td>76.18</td>\n",
       "    </tr>\n",
       "    <tr>\n",
       "      <th>53</th>\n",
       "      <td>57.65</td>\n",
       "    </tr>\n",
       "    <tr>\n",
       "      <th>2</th>\n",
       "      <td>57.80</td>\n",
       "    </tr>\n",
       "    <tr>\n",
       "      <th>41</th>\n",
       "      <td>62.48</td>\n",
       "    </tr>\n",
       "    <tr>\n",
       "      <th>65</th>\n",
       "      <td>54.97</td>\n",
       "    </tr>\n",
       "    <tr>\n",
       "      <th>92</th>\n",
       "      <td>68.55</td>\n",
       "    </tr>\n",
       "    <tr>\n",
       "      <th>23</th>\n",
       "      <td>62.74</td>\n",
       "    </tr>\n",
       "    <tr>\n",
       "      <th>45</th>\n",
       "      <td>60.99</td>\n",
       "    </tr>\n",
       "  </tbody>\n",
       "</table>\n",
       "</div>"
      ],
      "text/plain": [
       "      cgpa\n",
       "115  72.29\n",
       "48   66.94\n",
       "3    55.50\n",
       "42   59.69\n",
       "125  68.07\n",
       "24   55.47\n",
       "108  61.30\n",
       "12   56.70\n",
       "126  56.60\n",
       "139  58.30\n",
       "5    61.29\n",
       "54   59.42\n",
       "127  61.82\n",
       "35   52.71\n",
       "129  64.86\n",
       "82   70.48\n",
       "25   56.86\n",
       "87   61.26\n",
       "135  69.71\n",
       "142  71.55\n",
       "78   55.01\n",
       "94   53.49\n",
       "59   76.18\n",
       "53   57.65\n",
       "2    57.80\n",
       "41   62.48\n",
       "65   54.97\n",
       "92   68.55\n",
       "23   62.74\n",
       "45   60.99"
      ]
     },
     "execution_count": 13,
     "metadata": {},
     "output_type": "execute_result"
    }
   ],
   "source": [
    "X_test"
   ]
  },
  {
   "cell_type": "code",
   "execution_count": 14,
   "id": "433133e8",
   "metadata": {},
   "outputs": [
    {
     "data": {
      "text/plain": [
       "115    300000\n",
       "48     240000\n",
       "3      425000\n",
       "42     240000\n",
       "125    350000\n",
       "24     320000\n",
       "108    690000\n",
       "12     265000\n",
       "126    265000\n",
       "139    260000\n",
       "5      231000\n",
       "54     270000\n",
       "127    276000\n",
       "35     220000\n",
       "129    280000\n",
       "82     276000\n",
       "25     240000\n",
       "87     250000\n",
       "135    260000\n",
       "142    300000\n",
       "78     250000\n",
       "94     300000\n",
       "59     400000\n",
       "53     500000\n",
       "2      250000\n",
       "41     300000\n",
       "65     260000\n",
       "92     250000\n",
       "23     300000\n",
       "45     275000\n",
       "Name: package, dtype: int64"
      ]
     },
     "execution_count": 14,
     "metadata": {},
     "output_type": "execute_result"
    }
   ],
   "source": [
    "y_test"
   ]
  },
  {
   "cell_type": "code",
   "execution_count": 15,
   "id": "50bd17d5",
   "metadata": {},
   "outputs": [
    {
     "data": {
      "text/plain": [
       "array([317680.3100832])"
      ]
     },
     "execution_count": 15,
     "metadata": {},
     "output_type": "execute_result"
    }
   ],
   "source": [
    "lr.predict(X_test.iloc[0].values.reshape(1,1))"
   ]
  },
  {
   "cell_type": "code",
   "execution_count": 16,
   "id": "94ed9ec3",
   "metadata": {},
   "outputs": [
    {
     "data": {
      "text/plain": [
       "Text(0, 0.5, 'Packages')"
      ]
     },
     "execution_count": 16,
     "metadata": {},
     "output_type": "execute_result"
    },
    {
     "data": {
      "image/png": "[encoded data removed]",
      "text/plain": [
       "<Figure size 432x288 with 1 Axes>"
      ]
     },
     "metadata": {
      "needs_background": "light"
     },
     "output_type": "display_data"
    }
   ],
   "source": [
    "plt.scatter(df['cgpa'],df['package'])\n",
    "plt.plot(X_train,lr.predict(X_train),color = 'red')\n",
    "plt.xlabel('cgpa')\n",
    "plt.ylabel('Packages')"
   ]
  },
  {
   "cell_type": "code",
   "execution_count": 17,
   "id": "7b9ad4f6",
   "metadata": {},
   "outputs": [
    {
     "data": {
      "text/plain": [
       "array([3402.82945969])"
      ]
     },
     "execution_count": 17,
     "metadata": {},
     "output_type": "execute_result"
    }
   ],
   "source": [
    "m = lr.coef_\n",
    "m"
   ]
  },
  {
   "cell_type": "code",
   "execution_count": 18,
   "id": "549f632f",
   "metadata": {},
   "outputs": [
    {
     "data": {
      "text/plain": [
       "71689.76844188385"
      ]
     },
     "execution_count": 18,
     "metadata": {},
     "output_type": "execute_result"
    }
   ],
   "source": [
    "b = lr.intercept_\n",
    "b"
   ]
  },
  {
   "cell_type": "markdown",
   "id": "3f528da3",
   "metadata": {},
   "source": [
    "# Custom Class For Simple Linear Regression "
   ]
  },
  {
   "cell_type": "code",
   "execution_count": 27,
   "id": "5a8fd77e",
   "metadata": {},
   "outputs": [],
   "source": [
    "class LR:\n",
    "    \n",
    "    def __init__(self):\n",
    "        self.m = None\n",
    "        self.b = None\n",
    "        \n",
    "    def fit(self,x_train,y_train):\n",
    "        num = 0\n",
    "        denom = 0\n",
    "        for i in range(x_train.shape[0]):\n",
    "            num = num +((x_train[i] - x_train.mean())*(y_train[i] - y_train.mean()))\n",
    "            denom = denom + ((x_train[i] - x_train.mean())*(x_train[i] - x_train.mean()))\n",
    "        self.m = num/denom\n",
    "        self.b = y_train.mean() - (self.m * x_train.mean())\n",
    "        print(self.m)\n",
    "        print(self.b)\n",
    "                                                            \n",
    "    \n",
    "    def predict(self,x_test):\n",
    "        return self.m * x_test + self.b"
   ]
  },
  {
   "cell_type": "code",
   "execution_count": 19,
   "id": "43c1ae7e",
   "metadata": {},
   "outputs": [
    {
     "data": {
      "text/plain": [
       "array([58.8 , 66.28, 57.8 , 55.5 , 62.14, 61.29, 60.85, 63.7 , 68.63,\n",
       "       64.66, 62.54, 77.89, 56.7 , 69.06, 68.81, 63.62, 74.01, 57.55,\n",
       "       57.69, 64.15, 56.7 , 62.21, 72.78, 62.74, 55.47, 56.86, 62.56,\n",
       "       66.72, 62.9 , 69.7 , 54.55, 62.46, 62.98, 71.04, 65.56, 52.71,\n",
       "       66.88, 63.59, 57.99, 56.66, 57.24, 62.48, 59.69, 58.78, 58.46,\n",
       "       60.99, 68.07, 65.45, 66.94, 68.53, 59.75, 67.2 , 64.27, 57.65,\n",
       "       59.42, 62.35, 70.2 , 66.69, 62.  , 76.18, 57.03, 64.36, 62.36,\n",
       "       68.03, 59.47, 54.97, 62.16, 64.44, 57.31, 60.44, 61.31, 65.83,\n",
       "       58.23, 73.52, 58.31, 54.8 , 53.94, 63.08, 55.01, 60.5 , 70.85,\n",
       "       67.05, 70.48, 64.34, 71.49, 71.  , 56.7 , 61.26, 73.33, 68.2 ,\n",
       "       58.4 , 76.26, 68.55, 60.78, 53.49, 60.98, 67.13, 65.63, 60.41,\n",
       "       71.77, 54.43, 56.94, 61.29, 60.39, 63.23, 55.14, 62.28, 64.08,\n",
       "       61.3 , 58.87, 65.25, 62.48, 53.2 , 52.72, 55.03, 72.29, 66.06,\n",
       "       66.46, 65.52, 52.38, 66.04, 52.64, 66.23, 57.9 , 70.81, 68.07,\n",
       "       56.6 , 61.82, 71.43, 64.86, 61.01, 57.34, 56.63, 58.95, 54.48,\n",
       "       69.71, 55.8 , 52.81, 60.11, 58.3 , 67.69, 56.81, 71.55, 56.49,\n",
       "       74.49, 53.62, 69.72, 60.23])"
      ]
     },
     "execution_count": 19,
     "metadata": {},
     "output_type": "execute_result"
    }
   ],
   "source": [
    "X = df.iloc[:,0].values\n",
    "X"
   ]
  },
  {
   "cell_type": "code",
   "execution_count": 20,
   "id": "d93d6ba4",
   "metadata": {},
   "outputs": [
    {
     "data": {
      "text/plain": [
       "array([270000, 200000, 250000, 425000, 252000, 231000, 260000, 250000,\n",
       "       218000, 200000, 300000, 236000, 265000, 393000, 360000, 300000,\n",
       "       360000, 240000, 265000, 350000, 250000, 278000, 260000, 300000,\n",
       "       320000, 240000, 411000, 287000, 300000, 200000, 204000, 250000,\n",
       "       200000, 450000, 216000, 220000, 240000, 360000, 268000, 265000,\n",
       "       260000, 300000, 240000, 240000, 275000, 275000, 275000, 360000,\n",
       "       240000, 240000, 218000, 336000, 230000, 500000, 270000, 240000,\n",
       "       300000, 300000, 300000, 400000, 220000, 210000, 210000, 300000,\n",
       "       230000, 260000, 420000, 300000, 220000, 380000, 300000, 240000,\n",
       "       360000, 200000, 300000, 250000, 250000, 280000, 250000, 216000,\n",
       "       300000, 240000, 276000, 940000, 250000, 236000, 240000, 250000,\n",
       "       350000, 210000, 250000, 400000, 250000, 360000, 300000, 250000,\n",
       "       250000, 200000, 225000, 250000, 220000, 265000, 260000, 300000,\n",
       "       400000, 233000, 300000, 240000, 690000, 270000, 240000, 340000,\n",
       "       250000, 255000, 300000, 300000, 285000, 500000, 250000, 240000,\n",
       "       290000, 300000, 500000, 220000, 650000, 350000, 265000, 276000,\n",
       "       252000, 280000, 264000, 270000, 300000, 275000, 250000, 260000,\n",
       "       265000, 300000, 240000, 260000, 210000, 250000, 300000, 216000,\n",
       "       400000, 275000, 295000, 204000], dtype=int64)"
      ]
     },
     "execution_count": 20,
     "metadata": {},
     "output_type": "execute_result"
    }
   ],
   "source": [
    "Y = df.iloc[:,1].values\n",
    "Y"
   ]
  },
  {
   "cell_type": "code",
   "execution_count": 21,
   "id": "92fc974b",
   "metadata": {},
   "outputs": [],
   "source": [
    "from sklearn.model_selection import train_test_split\n",
    "X_train,X_test,y_train,y_test = train_test_split(X,Y,test_size = 0.2,random_state =2)"
   ]
  },
  {
   "cell_type": "code",
   "execution_count": 22,
   "id": "b241b5aa",
   "metadata": {},
   "outputs": [
    {
     "data": {
      "text/plain": [
       "(118,)"
      ]
     },
     "execution_count": 22,
     "metadata": {},
     "output_type": "execute_result"
    }
   ],
   "source": [
    "X_train.shape"
   ]
  },
  {
   "cell_type": "code",
   "execution_count": 23,
   "id": "82558ae1",
   "metadata": {},
   "outputs": [],
   "source": [
    "lr = LR()"
   ]
  },
  {
   "cell_type": "code",
   "execution_count": 24,
   "id": "3188d6a2",
   "metadata": {},
   "outputs": [
    {
     "name": "stdout",
     "output_type": "stream",
     "text": [
      "3402.8294596944447\n",
      "71689.76844188388\n"
     ]
    }
   ],
   "source": [
    "lr.fit(X_train,y_train)"
   ]
  },
  {
   "cell_type": "code",
   "execution_count": 25,
   "id": "da890111",
   "metadata": {},
   "outputs": [
    {
     "data": {
      "text/plain": [
       "72.29"
      ]
     },
     "execution_count": 25,
     "metadata": {},
     "output_type": "execute_result"
    }
   ],
   "source": [
    "X_test[0]"
   ]
  },
  {
   "cell_type": "code",
   "execution_count": 26,
   "id": "43f0eb93",
   "metadata": {},
   "outputs": [
    {
     "data": {
      "text/plain": [
       "317680.31008319533"
      ]
     },
     "execution_count": 26,
     "metadata": {},
     "output_type": "execute_result"
    }
   ],
   "source": [
    "lr.predict(X_test[0])"
   ]
  }
 ],
 "metadata": {
  "kernelspec": {
   "display_name": "Python 3 (ipykernel)",
   "language": "python",
   "name": "python3"
  },
  "language_info": {
   "codemirror_mode": {
    "name": "ipython",
    "version": 3
   },
   "file_extension": ".py",
   "mimetype": "text/x-python",
   "name": "python",
   "nbconvert_exporter": "python",
   "pygments_lexer": "ipython3",
   "version": "3.9.7"
  }
 },
 "nbformat": 4,
 "nbformat_minor": 5
}
