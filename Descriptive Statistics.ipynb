{
 "cells": [
  {
   "cell_type": "markdown",
   "id": "02a93163",
   "metadata": {},
   "source": [
    "## Measure Of Centeral tendency"
   ]
  },
  {
   "cell_type": "code",
   "execution_count": 40,
   "id": "8aab00b8",
   "metadata": {},
   "outputs": [],
   "source": [
    "import seaborn as sns\n",
    "import pandas as pd\n",
    "import numpy as np\n",
    "import matplotlib.pyplot as plt\n",
    "import warnings\n",
    "warnings.filterwarnings('ignore')"
   ]
  },
  {
   "cell_type": "code",
   "execution_count": 2,
   "id": "95187afa",
   "metadata": {},
   "outputs": [
    {
     "data": {
      "text/html": [
       "<div>\n",
       "<style scoped>\n",
       "    .dataframe tbody tr th:only-of-type {\n",
       "        vertical-align: middle;\n",
       "    }\n",
       "\n",
       "    .dataframe tbody tr th {\n",
       "        vertical-align: top;\n",
       "    }\n",
       "\n",
       "    .dataframe thead th {\n",
       "        text-align: right;\n",
       "    }\n",
       "</style>\n",
       "<table border=\"1\" class=\"dataframe\">\n",
       "  <thead>\n",
       "    <tr style=\"text-align: right;\">\n",
       "      <th></th>\n",
       "      <th>sepal_length</th>\n",
       "      <th>sepal_width</th>\n",
       "      <th>petal_length</th>\n",
       "      <th>petal_width</th>\n",
       "      <th>species</th>\n",
       "    </tr>\n",
       "  </thead>\n",
       "  <tbody>\n",
       "    <tr>\n",
       "      <th>0</th>\n",
       "      <td>5.1</td>\n",
       "      <td>3.5</td>\n",
       "      <td>1.4</td>\n",
       "      <td>0.2</td>\n",
       "      <td>setosa</td>\n",
       "    </tr>\n",
       "    <tr>\n",
       "      <th>1</th>\n",
       "      <td>4.9</td>\n",
       "      <td>3.0</td>\n",
       "      <td>1.4</td>\n",
       "      <td>0.2</td>\n",
       "      <td>setosa</td>\n",
       "    </tr>\n",
       "    <tr>\n",
       "      <th>2</th>\n",
       "      <td>4.7</td>\n",
       "      <td>3.2</td>\n",
       "      <td>1.3</td>\n",
       "      <td>0.2</td>\n",
       "      <td>setosa</td>\n",
       "    </tr>\n",
       "    <tr>\n",
       "      <th>3</th>\n",
       "      <td>4.6</td>\n",
       "      <td>3.1</td>\n",
       "      <td>1.5</td>\n",
       "      <td>0.2</td>\n",
       "      <td>setosa</td>\n",
       "    </tr>\n",
       "    <tr>\n",
       "      <th>4</th>\n",
       "      <td>5.0</td>\n",
       "      <td>3.6</td>\n",
       "      <td>1.4</td>\n",
       "      <td>0.2</td>\n",
       "      <td>setosa</td>\n",
       "    </tr>\n",
       "    <tr>\n",
       "      <th>5</th>\n",
       "      <td>5.4</td>\n",
       "      <td>3.9</td>\n",
       "      <td>1.7</td>\n",
       "      <td>0.4</td>\n",
       "      <td>setosa</td>\n",
       "    </tr>\n",
       "    <tr>\n",
       "      <th>6</th>\n",
       "      <td>4.6</td>\n",
       "      <td>3.4</td>\n",
       "      <td>1.4</td>\n",
       "      <td>0.3</td>\n",
       "      <td>setosa</td>\n",
       "    </tr>\n",
       "    <tr>\n",
       "      <th>7</th>\n",
       "      <td>5.0</td>\n",
       "      <td>3.4</td>\n",
       "      <td>1.5</td>\n",
       "      <td>0.2</td>\n",
       "      <td>setosa</td>\n",
       "    </tr>\n",
       "    <tr>\n",
       "      <th>8</th>\n",
       "      <td>4.4</td>\n",
       "      <td>2.9</td>\n",
       "      <td>1.4</td>\n",
       "      <td>0.2</td>\n",
       "      <td>setosa</td>\n",
       "    </tr>\n",
       "    <tr>\n",
       "      <th>9</th>\n",
       "      <td>4.9</td>\n",
       "      <td>3.1</td>\n",
       "      <td>1.5</td>\n",
       "      <td>0.1</td>\n",
       "      <td>setosa</td>\n",
       "    </tr>\n",
       "  </tbody>\n",
       "</table>\n",
       "</div>"
      ],
      "text/plain": [
       "   sepal_length  sepal_width  petal_length  petal_width species\n",
       "0           5.1          3.5           1.4          0.2  setosa\n",
       "1           4.9          3.0           1.4          0.2  setosa\n",
       "2           4.7          3.2           1.3          0.2  setosa\n",
       "3           4.6          3.1           1.5          0.2  setosa\n",
       "4           5.0          3.6           1.4          0.2  setosa\n",
       "5           5.4          3.9           1.7          0.4  setosa\n",
       "6           4.6          3.4           1.4          0.3  setosa\n",
       "7           5.0          3.4           1.5          0.2  setosa\n",
       "8           4.4          2.9           1.4          0.2  setosa\n",
       "9           4.9          3.1           1.5          0.1  setosa"
      ]
     },
     "execution_count": 2,
     "metadata": {},
     "output_type": "execute_result"
    }
   ],
   "source": [
    "flower = sns.load_dataset('iris')\n",
    "flower.head(10)"
   ]
  },
  {
   "cell_type": "code",
   "execution_count": 3,
   "id": "75c7cb24",
   "metadata": {},
   "outputs": [
    {
     "data": {
      "text/plain": [
       "setosa        50\n",
       "versicolor    50\n",
       "virginica     50\n",
       "Name: species, dtype: int64"
      ]
     },
     "execution_count": 3,
     "metadata": {},
     "output_type": "execute_result"
    }
   ],
   "source": [
    "flower['species'].value_counts()"
   ]
  },
  {
   "cell_type": "code",
   "execution_count": 4,
   "id": "2bc3221b",
   "metadata": {},
   "outputs": [],
   "source": [
    "# creating a seprate dataframe for each species \n",
    "setosa = flower[flower['species']=='setosa']\n",
    "versicolor = flower[flower['species']=='versicolor']\n",
    "virginica = flower[flower['species']=='virginica']"
   ]
  },
  {
   "cell_type": "code",
   "execution_count": 5,
   "id": "529fb068",
   "metadata": {},
   "outputs": [
    {
     "name": "stdout",
     "output_type": "stream",
     "text": [
      "3.428\n",
      "2.7700000000000005\n",
      "2.974\n"
     ]
    }
   ],
   "source": [
    "#sepal Width \n",
    "print(np.mean(setosa['sepal_width']))\n",
    "print(np.mean(versicolor['sepal_width']))\n",
    "print(np.mean(virginica['sepal_width']))"
   ]
  },
  {
   "cell_type": "code",
   "execution_count": 6,
   "id": "1b1c2d57",
   "metadata": {},
   "outputs": [
    {
     "name": "stdout",
     "output_type": "stream",
     "text": [
      "5.006\n",
      "5.936\n",
      "6.587999999999998\n"
     ]
    }
   ],
   "source": [
    "#sepal length \n",
    "print(np.mean(setosa['sepal_length']))\n",
    "print(np.mean(versicolor['sepal_length']))\n",
    "print(np.mean(virginica['sepal_length']))"
   ]
  },
  {
   "cell_type": "code",
   "execution_count": 7,
   "id": "e581414b",
   "metadata": {},
   "outputs": [
    {
     "name": "stdout",
     "output_type": "stream",
     "text": [
      "0.24599999999999997\n",
      "1.3259999999999998\n",
      "2.0260000000000002\n"
     ]
    }
   ],
   "source": [
    "#petal width \n",
    "print(np.mean(setosa['petal_width']))\n",
    "print(np.mean(versicolor['petal_width']))\n",
    "print(np.mean(virginica['petal_width']))"
   ]
  },
  {
   "cell_type": "code",
   "execution_count": 8,
   "id": "078167bf",
   "metadata": {},
   "outputs": [
    {
     "name": "stdout",
     "output_type": "stream",
     "text": [
      "1.4620000000000002\n",
      "4.26\n",
      "5.5520000000000005\n"
     ]
    }
   ],
   "source": [
    "#petal length \n",
    "print(np.mean(setosa['petal_length']))\n",
    "print(np.mean(versicolor['petal_length']))\n",
    "print(np.mean(virginica['petal_length']))"
   ]
  },
  {
   "cell_type": "markdown",
   "id": "de197077",
   "metadata": {},
   "source": [
    "### Problem of Outliers"
   ]
  },
  {
   "cell_type": "code",
   "execution_count": 9,
   "id": "127dd3a7",
   "metadata": {},
   "outputs": [
    {
     "data": {
      "text/plain": [
       "(array([ 1.,  1.,  2.,  7., 13., 13.,  7.,  4.,  0.,  2.]),\n",
       " array([1.  , 1.09, 1.18, 1.27, 1.36, 1.45, 1.54, 1.63, 1.72, 1.81, 1.9 ]),\n",
       " <BarContainer object of 10 artists>)"
      ]
     },
     "execution_count": 9,
     "metadata": {},
     "output_type": "execute_result"
    },
    {
     "data": {
      "image/png": "[encoded data removed]",
      "text/plain": [
       "<Figure size 432x288 with 1 Axes>"
      ]
     },
     "metadata": {
      "needs_background": "light"
     },
     "output_type": "display_data"
    }
   ],
   "source": [
    "plt.hist(setosa['petal_length'])"
   ]
  },
  {
   "cell_type": "code",
   "execution_count": 10,
   "id": "6a991a27",
   "metadata": {},
   "outputs": [
    {
     "data": {
      "text/plain": [
       "2.4137254901960787"
      ]
     },
     "execution_count": 10,
     "metadata": {},
     "output_type": "execute_result"
    }
   ],
   "source": [
    "np.mean(np.append(setosa['petal_length'],50))"
   ]
  },
  {
   "cell_type": "markdown",
   "id": "7877b132",
   "metadata": {},
   "source": [
    "### Median"
   ]
  },
  {
   "cell_type": "code",
   "execution_count": 11,
   "id": "9ca789bc",
   "metadata": {},
   "outputs": [
    {
     "name": "stdout",
     "output_type": "stream",
     "text": [
      "1.5\n",
      "4.35\n",
      "5.55\n"
     ]
    }
   ],
   "source": [
    "# Petal length \n",
    "print(np.median(setosa['petal_length']))\n",
    "print(np.median(versicolor['petal_length']))\n",
    "print(np.median(virginica['petal_length']))"
   ]
  },
  {
   "cell_type": "code",
   "execution_count": 12,
   "id": "d482f736",
   "metadata": {},
   "outputs": [
    {
     "data": {
      "text/plain": [
       "1.5"
      ]
     },
     "execution_count": 12,
     "metadata": {},
     "output_type": "execute_result"
    }
   ],
   "source": [
    "np.median(np.append(setosa['petal_length'],50))"
   ]
  },
  {
   "cell_type": "code",
   "execution_count": 13,
   "id": "676d131d",
   "metadata": {},
   "outputs": [
    {
     "data": {
      "text/plain": [
       "12.0"
      ]
     },
     "execution_count": 13,
     "metadata": {},
     "output_type": "execute_result"
    }
   ],
   "source": [
    "arr = np.array([1,4,5,8,12,600,700,800,100000])\n",
    "np.median(arr)"
   ]
  },
  {
   "cell_type": "markdown",
   "id": "129c17a8",
   "metadata": {},
   "source": [
    "### Mode"
   ]
  },
  {
   "cell_type": "code",
   "execution_count": 14,
   "id": "ce296d2d",
   "metadata": {},
   "outputs": [
    {
     "name": "stdout",
     "output_type": "stream",
     "text": [
      "ModeResult(mode=array([1.4]), count=array([13]))\n",
      "ModeResult(mode=array([4.5]), count=array([7]))\n",
      "ModeResult(mode=array([5.1]), count=array([7]))\n"
     ]
    }
   ],
   "source": [
    "from scipy import stats\n",
    "\n",
    "print(stats.mode(setosa['petal_length']))\n",
    "print(stats.mode(versicolor['petal_length']))\n",
    "print(stats.mode(virginica['petal_length']))"
   ]
  },
  {
   "cell_type": "markdown",
   "id": "cef2b77a",
   "metadata": {},
   "source": [
    "# Which one Should we use?\n",
    "- We Should use all the three to know the centrality of the data."
   ]
  },
  {
   "cell_type": "markdown",
   "id": "86b392ef",
   "metadata": {},
   "source": [
    "## Measure Of Spread"
   ]
  },
  {
   "cell_type": "markdown",
   "id": "f1811538",
   "metadata": {},
   "source": [
    "Measure of spread give us an idea of how much the data is spread or varying. Some important measure of spread are:\n",
    "1. Range\n",
    "2. Interquartile Range(IQR)\n",
    "3. Variance\n",
    "4. Standard Deviation"
   ]
  },
  {
   "cell_type": "markdown",
   "id": "3d320b93",
   "metadata": {},
   "source": [
    "# 1. Range\n",
    "\n",
    "- The range describe the difference between the largest & smallest point in your data."
   ]
  },
  {
   "cell_type": "code",
   "execution_count": 15,
   "id": "899d126a",
   "metadata": {},
   "outputs": [
    {
     "name": "stdout",
     "output_type": "stream",
     "text": [
      "The range is 0.8999999999999999\n"
     ]
    }
   ],
   "source": [
    "r = np.max(setosa['petal_length']) - np.min(setosa['petal_length'])\n",
    "print(\"The range is\",r)"
   ]
  },
  {
   "cell_type": "markdown",
   "id": "b13a1a4b",
   "metadata": {},
   "source": [
    "# 2. Percentile\n",
    "- A Percentile is a measure used in statistics indicating the value below which a given percentage of obervations in a group of observations fails. For example, the  10th percentile is the value below which 10% of the obervations may be found."
   ]
  },
  {
   "cell_type": "code",
   "execution_count": 16,
   "id": "0ed188a7",
   "metadata": {},
   "outputs": [
    {
     "name": "stdout",
     "output_type": "stream",
     "text": [
      "3.0\n",
      "7.0\n"
     ]
    }
   ],
   "source": [
    "mylist = [1,2,3,4,5,6,7,8,9]\n",
    "\n",
    "print(np.percentile(mylist,25))\n",
    "print(np.percentile(mylist,75))"
   ]
  },
  {
   "cell_type": "code",
   "execution_count": 17,
   "id": "1af47e20",
   "metadata": {},
   "outputs": [
    {
     "data": {
      "text/plain": [
       "1.7"
      ]
     },
     "execution_count": 17,
     "metadata": {},
     "output_type": "execute_result"
    }
   ],
   "source": [
    "np.percentile(setosa['petal_length'],95)"
   ]
  },
  {
   "cell_type": "markdown",
   "id": "4afb9c16",
   "metadata": {},
   "source": [
    "# 3 Quartiles\n",
    "- Quartiles are the values that divide a list of numbers into quarters\n",
    "\n",
    "- Put the list of number in Order\n",
    "- Then cut the list into four equal parts\n",
    "- The quartiles are at the cuts"
   ]
  },
  {
   "cell_type": "code",
   "execution_count": 19,
   "id": "4c84fa55",
   "metadata": {},
   "outputs": [
    {
     "name": "stdout",
     "output_type": "stream",
     "text": [
      "1.4\n",
      "1.5\n",
      "1.5750000000000002\n",
      "1.9\n"
     ]
    }
   ],
   "source": [
    "print(np.percentile(setosa['petal_length'],25))\n",
    "print(np.percentile(setosa['petal_length'],50))\n",
    "print(np.percentile(setosa['petal_length'],75))\n",
    "print(np.percentile(setosa['petal_length'],100))"
   ]
  },
  {
   "cell_type": "markdown",
   "id": "44ed07bc",
   "metadata": {},
   "source": [
    "### Interquartile Range \n",
    "\n",
    "- The interquartile range(IQR) is a measure of statistical disperion between upper(75th) and lower(25th) quartile."
   ]
  },
  {
   "cell_type": "code",
   "execution_count": 21,
   "id": "f9ce2876",
   "metadata": {},
   "outputs": [
    {
     "name": "stdout",
     "output_type": "stream",
     "text": [
      "The inter Quartile Range is 0.17500000000000027\n"
     ]
    }
   ],
   "source": [
    "iqr = np.percentile(setosa['petal_length'],75) - np.percentile(setosa['petal_length'],25)\n",
    "print(\"The inter Quartile Range is\", iqr)"
   ]
  },
  {
   "cell_type": "markdown",
   "id": "0500fe96",
   "metadata": {},
   "source": [
    "### Mean Absolute Deviation\n",
    "\n",
    "Mean Absolute Deviation (MAD) is a statistical measure of variability that describes how spread out a set of data is. It is calculated as the average distance between each data point and the mean of the data set.\n",
    "\n",
    "To calculate MAD, follow these steps:\n",
    "\n",
    "Calculate the mean of the data set.\n",
    "Calculate the absolute value of the difference between each data point and the mean.\n",
    "Find the average of these absolute differences.\n",
    "The formula for MAD can be expressed as:\n",
    "\n",
    "MAD = (Σ |xi - x̄|) / n\n",
    "\n",
    "Where:\n",
    "\n",
    "Σ: symbolizes summing up all the absolute differences\n",
    "xi: a data point in the set\n",
    "x̄: the mean of the data set\n",
    "n: the number of data points\n",
    "\n",
    "MAD is often used as a measure of dispersion in finance and economics, as well as in other fields such as engineering and psychology. One of the advantages of MAD is that it is less sensitive to outliers compared to other measures of variability such as standard deviation.\n",
    "\n",
    "\n",
    "Example - 2,1,6,7,3,11\n",
    "\n"
   ]
  },
  {
   "cell_type": "markdown",
   "id": "cf3507cc",
   "metadata": {},
   "source": [
    "### Variance\n",
    "\n",
    "Variance is a statistical measure of the spread or dispersion of a set of data. It measures how far each data point in a dataset is from the mean of the dataset. The variance is calculated as the average of the squared differences from the mean.\n",
    "\n",
    "The formula for variance can be expressed as:\n",
    "\n",
    "Var = (Σ(xi - x̄)²) / n\n",
    "\n",
    "Where:\n",
    "\n",
    "Σ: symbolizes summing up all the squared differences\n",
    "xi: a data point in the set\n",
    "x̄: the mean of the data set\n",
    "n: the number of data points\n",
    "\n",
    "In this formula, (xi - x̄) is the deviation of each data point from the mean, and (xi - x̄)² is the squared deviation. The variance is the sum of all the squared deviations divided by the number of data points.\n",
    "\n",
    "Variance is commonly used in finance, engineering, and other fields to measure the risk associated with an investment or a process. It is also used in data analysis to determine how much a set of data varies from the average. One limitation of variance is that it is sensitive to outliers and can be skewed by extreme values in the data set. To address this, other measures of variability, such as the mean absolute deviation, may be used instead.\n",
    "\n",
    "### Why we square in variance ?\n",
    "\n",
    "We square the deviations from the mean in the calculation of variance for a number of reasons. Here are a few reasons:\n",
    "\n",
    "Squaring eliminates the possibility of negative values: When we calculate the deviation of a data point from the mean, it can be positive or negative. If we simply add up the deviations, the positive and negative values can cancel each other out, giving a false indication of the amount of variation in the data. Squaring the deviations ensures that all values are positive, and therefore, the resulting variance is a true measure of the variation in the data.\n",
    "\n",
    "Squaring emphasizes larger deviations: Squaring the deviations from the mean places greater weight on values that are further from the mean. This is useful because larger deviations from the mean are often more important than smaller deviations in many applications, such as in measuring the risk of an investment or the variability of a manufacturing process.\n",
    "\n",
    "The sum of squared deviations is a convex function: The sum of squared deviations is a convex function, which means it has a unique minimum value. This property makes the calculation of variance amenable to optimization and makes it easier to find the minimum value of the sum of squared deviations, which is equal to the variance.\n",
    "\n",
    "So, by squaring the deviations from the mean, we create a useful mathematical construct that better captures the amount of variation in the data and is easier to work with mathematically.\n",
    "\n",
    "\n",
    "\n",
    "\n",
    "\n",
    "\n"
   ]
  },
  {
   "cell_type": "code",
   "execution_count": 22,
   "id": "96770885",
   "metadata": {},
   "outputs": [
    {
     "data": {
      "text/plain": [
       "0.029555999999999995"
      ]
     },
     "execution_count": 22,
     "metadata": {},
     "output_type": "execute_result"
    }
   ],
   "source": [
    "np.var(setosa['petal_length'])"
   ]
  },
  {
   "cell_type": "markdown",
   "id": "19e8afdb",
   "metadata": {},
   "source": [
    "### Variance VS Mean Absolute Deviation\n",
    "Variance are easy to work with in comparision to MAD as it works on squaring(a smooth function) the deviation in comparision to MAD where we use modulus(a non smooth function)\n",
    "\n",
    "Mathematically speaking smooth functions are easier to work with in comparision to non smooth functions."
   ]
  },
  {
   "cell_type": "markdown",
   "id": "291f2352",
   "metadata": {},
   "source": [
    "#### 8 .Standard Devation\n",
    "\n",
    "Standard deviation is a statistical measure of the spread or dispersion of a set of data. It is the square root of the variance and is expressed in the same units as the data. The standard deviation measures the average distance of data points from the mean of the data set.\n",
    "\n",
    "The formula for standard deviation is:\n",
    "\n",
    "σ = sqrt[(Σ(xi - x̄)²) / n]\n",
    "\n",
    "Where:\n",
    "\n",
    "Σ: symbolizes summing up all the squared differences\n",
    "xi: a data point in the set\n",
    "x̄: the mean of the data set\n",
    "n: the number of data points\n",
    "sqrt: the square root function\n",
    "\n",
    "In this formula, (xi - x̄) is the deviation of each data point from the mean, and (xi - x̄)² is the squared deviation. The standard deviation is the square root of the average of all the squared deviations divided by the number of data points.\n",
    "\n",
    "Standard deviation is a commonly used measure of variability in many fields, including finance, engineering, and social sciences. It is often used to describe the risk associated with an investment or to measure the reliability of a manufacturing process. Standard deviation is also used to determine how much a set of data varies from the average and to identify outliers or data points that are far from the mean."
   ]
  },
  {
   "cell_type": "code",
   "execution_count": 23,
   "id": "a7496d9c",
   "metadata": {},
   "outputs": [
    {
     "data": {
      "text/plain": [
       "0.17191858538273283"
      ]
     },
     "execution_count": 23,
     "metadata": {},
     "output_type": "execute_result"
    }
   ],
   "source": [
    "np.std(setosa['petal_length'])"
   ]
  },
  {
   "cell_type": "markdown",
   "id": "928fcbad",
   "metadata": {},
   "source": [
    "### 9. Median Absolute Deviation\n",
    "\n",
    "Median Absolute Deviation (MAD) is a statistical measure of variability that is based on the median of a set of data. It measures the average distance of the data points from the median, rather than from the mean, as in the case of the standard deviation. MAD is less sensitive to outliers than the standard deviation and can be useful in situations where the data is not normally distributed.\n",
    "\n",
    "Here's an example of how to calculate MAD:\n",
    "\n",
    "Suppose you have the following data set:\n",
    "\n",
    "4, 7, 8, 10, 12, 14, 18\n",
    "\n",
    "To calculate the MAD, follow these steps:\n",
    "\n",
    "Find the median of the data set. In this case, the median is 10, which is the middle value when the data is arranged in numerical order.\n",
    "\n",
    "Calculate the absolute difference between each data point and the median. For example, the absolute difference between 4 and 10 is 6, and the absolute difference between 18 and 10 is 8.\n",
    "\n",
    "Find the median of these absolute differences. In this case, the absolute differences are:\n",
    "\n",
    "6, 3, 2, 0, 2, 4, 8\n",
    "\n",
    "The median of these values is 3.\n",
    "\n",
    "Therefore, the MAD of this data set is 3.\n",
    "\n",
    "The MAD is useful when you want to measure the variability of a data set and want to avoid the influence of extreme values, or outliers. It is particularly useful in finance and economics, where extreme values can have a significant impact on the results of statistical analyses. By using the median rather than the mean, MAD provides a more robust measure of variability in such situations."
   ]
  },
  {
   "cell_type": "code",
   "execution_count": 30,
   "id": "2dae9b40",
   "metadata": {},
   "outputs": [
    {
     "data": {
      "text/plain": [
       "1"
      ]
     },
     "execution_count": 30,
     "metadata": {},
     "output_type": "execute_result"
    }
   ],
   "source": [
    "from statsmodels import robust\n",
    "int(robust.mad(np.array([6, 3, 2, 0, 2, 4, 8])))"
   ]
  },
  {
   "cell_type": "markdown",
   "id": "0e26753d",
   "metadata": {},
   "source": [
    "### 10. Standard Deviation VS Median Absolute Deviation\n",
    "Just like Mean Vs Median , Median Absolute devation is free from the effects of outliers from which standard deviation can suffer."
   ]
  },
  {
   "cell_type": "code",
   "execution_count": 41,
   "id": "b2154e73",
   "metadata": {},
   "outputs": [
    {
     "data": {
      "text/plain": [
       "<AxesSubplot:xlabel='petal_length', ylabel='Density'>"
      ]
     },
     "execution_count": 41,
     "metadata": {},
     "output_type": "execute_result"
    },
    {
     "data": {
      "image/png": "[encoded data removed]",
      "text/plain": [
       "<Figure size 432x288 with 1 Axes>"
      ]
     },
     "metadata": {
      "needs_background": "light"
     },
     "output_type": "display_data"
    }
   ],
   "source": [
    "#PDF & CDF\n",
    "sns.distplot(setosa['petal_length'])"
   ]
  },
  {
   "cell_type": "code",
   "execution_count": 35,
   "id": "ffaa48cf",
   "metadata": {},
   "outputs": [
    {
     "data": {
      "text/html": [
       "<div>\n",
       "<style scoped>\n",
       "    .dataframe tbody tr th:only-of-type {\n",
       "        vertical-align: middle;\n",
       "    }\n",
       "\n",
       "    .dataframe tbody tr th {\n",
       "        vertical-align: top;\n",
       "    }\n",
       "\n",
       "    .dataframe thead th {\n",
       "        text-align: right;\n",
       "    }\n",
       "</style>\n",
       "<table border=\"1\" class=\"dataframe\">\n",
       "  <thead>\n",
       "    <tr style=\"text-align: right;\">\n",
       "      <th></th>\n",
       "      <th>sepal_length</th>\n",
       "      <th>sepal_width</th>\n",
       "      <th>petal_length</th>\n",
       "      <th>petal_width</th>\n",
       "      <th>species</th>\n",
       "    </tr>\n",
       "  </thead>\n",
       "  <tbody>\n",
       "    <tr>\n",
       "      <th>0</th>\n",
       "      <td>5.1</td>\n",
       "      <td>3.5</td>\n",
       "      <td>1.4</td>\n",
       "      <td>0.2</td>\n",
       "      <td>setosa</td>\n",
       "    </tr>\n",
       "    <tr>\n",
       "      <th>1</th>\n",
       "      <td>4.9</td>\n",
       "      <td>3.0</td>\n",
       "      <td>1.4</td>\n",
       "      <td>0.2</td>\n",
       "      <td>setosa</td>\n",
       "    </tr>\n",
       "    <tr>\n",
       "      <th>2</th>\n",
       "      <td>4.7</td>\n",
       "      <td>3.2</td>\n",
       "      <td>1.3</td>\n",
       "      <td>0.2</td>\n",
       "      <td>setosa</td>\n",
       "    </tr>\n",
       "    <tr>\n",
       "      <th>3</th>\n",
       "      <td>4.6</td>\n",
       "      <td>3.1</td>\n",
       "      <td>1.5</td>\n",
       "      <td>0.2</td>\n",
       "      <td>setosa</td>\n",
       "    </tr>\n",
       "    <tr>\n",
       "      <th>4</th>\n",
       "      <td>5.0</td>\n",
       "      <td>3.6</td>\n",
       "      <td>1.4</td>\n",
       "      <td>0.2</td>\n",
       "      <td>setosa</td>\n",
       "    </tr>\n",
       "    <tr>\n",
       "      <th>...</th>\n",
       "      <td>...</td>\n",
       "      <td>...</td>\n",
       "      <td>...</td>\n",
       "      <td>...</td>\n",
       "      <td>...</td>\n",
       "    </tr>\n",
       "    <tr>\n",
       "      <th>145</th>\n",
       "      <td>6.7</td>\n",
       "      <td>3.0</td>\n",
       "      <td>5.2</td>\n",
       "      <td>2.3</td>\n",
       "      <td>virginica</td>\n",
       "    </tr>\n",
       "    <tr>\n",
       "      <th>146</th>\n",
       "      <td>6.3</td>\n",
       "      <td>2.5</td>\n",
       "      <td>5.0</td>\n",
       "      <td>1.9</td>\n",
       "      <td>virginica</td>\n",
       "    </tr>\n",
       "    <tr>\n",
       "      <th>147</th>\n",
       "      <td>6.5</td>\n",
       "      <td>3.0</td>\n",
       "      <td>5.2</td>\n",
       "      <td>2.0</td>\n",
       "      <td>virginica</td>\n",
       "    </tr>\n",
       "    <tr>\n",
       "      <th>148</th>\n",
       "      <td>6.2</td>\n",
       "      <td>3.4</td>\n",
       "      <td>5.4</td>\n",
       "      <td>2.3</td>\n",
       "      <td>virginica</td>\n",
       "    </tr>\n",
       "    <tr>\n",
       "      <th>149</th>\n",
       "      <td>5.9</td>\n",
       "      <td>3.0</td>\n",
       "      <td>5.1</td>\n",
       "      <td>1.8</td>\n",
       "      <td>virginica</td>\n",
       "    </tr>\n",
       "  </tbody>\n",
       "</table>\n",
       "<p>150 rows × 5 columns</p>\n",
       "</div>"
      ],
      "text/plain": [
       "     sepal_length  sepal_width  petal_length  petal_width    species\n",
       "0             5.1          3.5           1.4          0.2     setosa\n",
       "1             4.9          3.0           1.4          0.2     setosa\n",
       "2             4.7          3.2           1.3          0.2     setosa\n",
       "3             4.6          3.1           1.5          0.2     setosa\n",
       "4             5.0          3.6           1.4          0.2     setosa\n",
       "..            ...          ...           ...          ...        ...\n",
       "145           6.7          3.0           5.2          2.3  virginica\n",
       "146           6.3          2.5           5.0          1.9  virginica\n",
       "147           6.5          3.0           5.2          2.0  virginica\n",
       "148           6.2          3.4           5.4          2.3  virginica\n",
       "149           5.9          3.0           5.1          1.8  virginica\n",
       "\n",
       "[150 rows x 5 columns]"
      ]
     },
     "execution_count": 35,
     "metadata": {},
     "output_type": "execute_result"
    }
   ],
   "source": [
    "flower"
   ]
  },
  {
   "cell_type": "code",
   "execution_count": 42,
   "id": "885997c2",
   "metadata": {},
   "outputs": [
    {
     "data": {
      "text/plain": [
       "<seaborn.axisgrid.FacetGrid at 0x1c5e7ef4d60>"
      ]
     },
     "execution_count": 42,
     "metadata": {},
     "output_type": "execute_result"
    },
    {
     "data": {
      "image/png": "[encoded data removed]",
      "text/plain": [
       "<Figure size 516.75x432 with 1 Axes>"
      ]
     },
     "metadata": {
      "needs_background": "light"
     },
     "output_type": "display_data"
    }
   ],
   "source": [
    "sns.FacetGrid(flower,hue = 'species',height = 6).map(sns.distplot,'petal_length').add_legend()"
   ]
  },
  {
   "cell_type": "code",
   "execution_count": 43,
   "id": "51da0cfc",
   "metadata": {},
   "outputs": [
    {
     "data": {
      "text/plain": [
       "<seaborn.axisgrid.FacetGrid at 0x1c5e7f5e250>"
      ]
     },
     "execution_count": 43,
     "metadata": {},
     "output_type": "execute_result"
    },
    {
     "data": {
      "image/png": "[encoded data removed]",
      "text/plain": [
       "<Figure size 516.75x432 with 1 Axes>"
      ]
     },
     "metadata": {
      "needs_background": "light"
     },
     "output_type": "display_data"
    }
   ],
   "source": [
    "sns.FacetGrid(flower,hue = 'species',height = 6).map(sns.distplot,'petal_width').add_legend()"
   ]
  },
  {
   "cell_type": "code",
   "execution_count": 44,
   "id": "b0d3394a",
   "metadata": {},
   "outputs": [
    {
     "data": {
      "text/plain": [
       "<seaborn.axisgrid.FacetGrid at 0x1c5e8ff2bb0>"
      ]
     },
     "execution_count": 44,
     "metadata": {},
     "output_type": "execute_result"
    },
    {
     "data": {
      "image/png": "[encoded data removed]",
      "text/plain": [
       "<Figure size 516.75x432 with 1 Axes>"
      ]
     },
     "metadata": {
      "needs_background": "light"
     },
     "output_type": "display_data"
    }
   ],
   "source": [
    "sns.FacetGrid(flower,hue = 'species',height = 6).map(sns.distplot,'sepal_width').add_legend()"
   ]
  },
  {
   "cell_type": "code",
   "execution_count": 45,
   "id": "aa0bccfe",
   "metadata": {},
   "outputs": [
    {
     "data": {
      "text/plain": [
       "<seaborn.axisgrid.FacetGrid at 0x1c5e7b1a790>"
      ]
     },
     "execution_count": 45,
     "metadata": {},
     "output_type": "execute_result"
    },
    {
     "data": {
      "image/png": "[encoded data removed]",
      "text/plain": [
       "<Figure size 516.75x432 with 1 Axes>"
      ]
     },
     "metadata": {
      "needs_background": "light"
     },
     "output_type": "display_data"
    }
   ],
   "source": [
    "sns.FacetGrid(flower,hue = 'species',height = 6).map(sns.distplot,'sepal_length').add_legend()"
   ]
  },
  {
   "cell_type": "markdown",
   "id": "b0b9562e",
   "metadata": {},
   "source": [
    "# how to calculate PDF & CDF "
   ]
  }
 ],
 "metadata": {
  "kernelspec": {
   "display_name": "Python 3 (ipykernel)",
   "language": "python",
   "name": "python3"
  },
  "language_info": {
   "codemirror_mode": {
    "name": "ipython",
    "version": 3
   },
   "file_extension": ".py",
   "mimetype": "text/x-python",
   "name": "python",
   "nbconvert_exporter": "python",
   "pygments_lexer": "ipython3",
   "version": "3.9.7"
  }
 },
 "nbformat": 4,
 "nbformat_minor": 5
}
